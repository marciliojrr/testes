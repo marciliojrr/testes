{
  "nbformat": 4,
  "nbformat_minor": 0,
  "metadata": {
    "colab": {
      "name": "Copy of projeto-apa-novo",
      "provenance": [],
      "collapsed_sections": [
        "MVjffCJY3mpT"
      ],
      "include_colab_link": true
    },
    "kernelspec": {
      "name": "python3",
      "display_name": "Python 3"
    }
  },
  "cells": [
    {
      "cell_type": "markdown",
      "metadata": {
        "id": "view-in-github",
        "colab_type": "text"
      },
      "source": [
        "<a href=\"https://colab.research.google.com/github/marciliojrr/testes/blob/master/Copy_of_projeto_apa_novo.ipynb\" target=\"_parent\"><img src=\"https://colab.research.google.com/assets/colab-badge.svg\" alt=\"Open In Colab\"/></a>"
      ]
    },
    {
      "cell_type": "markdown",
      "metadata": {
        "id": "MVjffCJY3mpT",
        "colab_type": "text"
      },
      "source": [
        "##Importação de módulos necessários\n",
        "\n",
        "---\n",
        "\n"
      ]
    },
    {
      "cell_type": "code",
      "metadata": {
        "id": "mm0dvSOnxEaK",
        "colab_type": "code",
        "colab": {}
      },
      "source": [
        "import sys\n",
        "import copy\n",
        "import re\n",
        "import random\n",
        "import numpy"
      ],
      "execution_count": 0,
      "outputs": []
    },
    {
      "cell_type": "markdown",
      "metadata": {
        "id": "V2Q_p8qd6XWt",
        "colab_type": "text"
      },
      "source": [
        "# New Section"
      ]
    },
    {
      "cell_type": "markdown",
      "metadata": {
        "id": "-fSf1ko8p6se",
        "colab_type": "text"
      },
      "source": [
        "##O PRGRAMA VAI PERGUNTAR QUAL A INSTÂNCIA, É PRECISO DIGITAR O NOME COMPLETO:\n",
        "EX: P-n16-k8.txt"
      ]
    },
    {
      "cell_type": "markdown",
      "metadata": {
        "id": "153nlDFd36Hx",
        "colab_type": "text"
      },
      "source": [
        "##Tratamento do arquivo de instâncias"
      ]
    },
    {
      "cell_type": "code",
      "metadata": {
        "id": "liiIDkzOxjv2",
        "colab_type": "code",
        "outputId": "0f8447cb-93d7-4d98-a7bb-f8d946615564",
        "colab": {
          "base_uri": "https://localhost:8080/",
          "height": 34
        }
      },
      "source": [
        "instancia = str(input('Qual nome do arquivo de instância? '))\n",
        "\n",
        "listaI = []\n",
        "dados = open(instancia, 'r')\n",
        "\n",
        "for i in dados:\n",
        "  i = i.strip()\n",
        "  listaI.append(i)\n",
        "\n",
        "del listaI[0]\n",
        "\n",
        "dimensao = int(re.sub('[^0-9]', '', listaI[0]))\n",
        "veiculos = int(re.sub('[^0-9]', '', listaI[1]))\n",
        "capacidade = int(re.sub('[^0-9]', '', listaI[2]))\n",
        "\n",
        "d = listaI.index('DEMAND_SECTION:')\n",
        "e = listaI.index('EDGE_WEIGHT_SECTION')\n",
        "\n",
        "listaDemanda = listaI[d:e]\n",
        "listaMatriz = listaI[e:]\n",
        "\n",
        "del listaDemanda[0]\n",
        "del listaDemanda[-1]\n",
        "del listaMatriz[0]\n",
        "del listaMatriz[-1]\n",
        "\n",
        "matrizCusto = []\n",
        "for i in listaMatriz:\n",
        "  matrizCusto.append([int(x) for x in i.split('   ')])\n",
        "\n",
        "matrizDemanda = []\n",
        "for i in listaDemanda:\n",
        "  matrizDemanda.append([int(x) for x in i.split('   ')])\n",
        "\n",
        "candidatos = [each[1] for each in matrizDemanda]\n",
        "candidatos1 = [each[0] for each in matrizDemanda]"
      ],
      "execution_count": 66,
      "outputs": [
        {
          "output_type": "stream",
          "text": [
            "Qual nome do arquivo de instância? P-n16-k8.txt\n"
          ],
          "name": "stdout"
        }
      ]
    },
    {
      "cell_type": "code",
      "metadata": {
        "id": "OGyXU22lFNA5",
        "colab_type": "code",
        "colab": {
          "base_uri": "https://localhost:8080/",
          "height": 34
        },
        "outputId": "7889f012-afdb-4ba1-b817-487daa31b819"
      },
      "source": [
        "print(candidatos[5])"
      ],
      "execution_count": 67,
      "outputs": [
        {
          "output_type": "stream",
          "text": [
            "11\n"
          ],
          "name": "stdout"
        }
      ]
    },
    {
      "cell_type": "code",
      "metadata": {
        "id": "JpMQX3ICC1Pm",
        "colab_type": "code",
        "colab": {
          "base_uri": "https://localhost:8080/",
          "height": 170
        },
        "outputId": "665bff94-5c71-4904-83d2-e85c760ad9fa"
      },
      "source": [
        "s = []\n",
        "solucaoPrimeiroCaminhao = []\n",
        "for i in range(0, veiculos):\n",
        "    solucaoCaminhaoAtual = []\n",
        "    for j in range(len(candidatos)):\n",
        "      if(candidatos[j] < capacidade):\n",
        "            capacidade = capacidade - candidatos[j]\n",
        "            solucaoCaminhaoAtual.append(candidatos1[j])\n",
        "            del(candidatos1[j])\n",
        "    s.append(solucaoCaminhaoAtual)\n",
        "    print(solucaoCaminhaoAtual)\n",
        "\n",
        "print(s)\n"
      ],
      "execution_count": 68,
      "outputs": [
        {
          "output_type": "stream",
          "text": [
            "[0, 2, 7]\n",
            "[1]\n",
            "[3]\n",
            "[4]\n",
            "[5]\n",
            "[6]\n",
            "[8]\n",
            "[9]\n",
            "[[0, 2, 7], [1], [3], [4], [5], [6], [8], [9]]\n"
          ],
          "name": "stdout"
        }
      ]
    },
    {
      "cell_type": "code",
      "metadata": {
        "id": "NGt_nmlAuX_H",
        "colab_type": "code",
        "outputId": "72678cd6-79e6-4857-8e4b-a2b818d703e5",
        "colab": {
          "base_uri": "https://localhost:8080/",
          "height": 34
        }
      },
      "source": [
        "print(capacidade)"
      ],
      "execution_count": 69,
      "outputs": [
        {
          "output_type": "stream",
          "text": [
            "5\n"
          ],
          "name": "stdout"
        }
      ]
    },
    {
      "cell_type": "code",
      "metadata": {
        "id": "BdT-iEzauaTE",
        "colab_type": "code",
        "outputId": "b4e6a9f6-d548-4cda-fbad-7bf919b20ef8",
        "colab": {
          "base_uri": "https://localhost:8080/",
          "height": 289
        }
      },
      "source": [
        "for i in range(dimensao):\n",
        "  print(matrizCusto[i])"
      ],
      "execution_count": 70,
      "outputs": [
        {
          "output_type": "stream",
          "text": [
            "[0, 14, 21, 33, 22, 23, 12, 22, 32, 32, 21, 28, 30, 29, 31, 30]\n",
            "[14, 0, 12, 19, 12, 24, 12, 19, 21, 27, 7, 19, 16, 21, 33, 17]\n",
            "[21, 12, 0, 15, 22, 16, 11, 9, 12, 15, 11, 29, 19, 9, 24, 23]\n",
            "[33, 19, 15, 0, 21, 31, 25, 23, 8, 24, 12, 25, 9, 17, 37, 16]\n",
            "[22, 12, 22, 21, 0, 36, 24, 30, 26, 37, 12, 7, 13, 30, 44, 9]\n",
            "[23, 24, 16, 31, 36, 0, 13, 8, 25, 13, 26, 43, 35, 16, 8, 39]\n",
            "[12, 12, 11, 25, 24, 13, 0, 10, 23, 20, 16, 31, 26, 17, 21, 28]\n",
            "[22, 19, 9, 23, 30, 8, 10, 0, 18, 10, 19, 37, 28, 9, 15, 32]\n",
            "[32, 21, 12, 8, 26, 25, 23, 18, 0, 17, 15, 32, 17, 10, 31, 23]\n",
            "[32, 27, 15, 24, 37, 13, 20, 10, 17, 0, 25, 44, 31, 7, 16, 37]\n",
            "[21, 7, 11, 12, 12, 26, 16, 19, 15, 25, 0, 19, 10, 18, 34, 13]\n",
            "[28, 19, 29, 25, 7, 43, 31, 37, 32, 44, 19, 0, 16, 37, 51, 10]\n",
            "[30, 16, 19, 9, 13, 35, 26, 28, 17, 31, 10, 16, 0, 24, 43, 6]\n",
            "[29, 21, 9, 17, 30, 16, 17, 9, 10, 7, 18, 37, 24, 0, 21, 30]\n",
            "[31, 33, 24, 37, 44, 8, 21, 15, 31, 16, 34, 51, 43, 21, 0, 47]\n",
            "[30, 17, 23, 16, 9, 39, 28, 32, 23, 37, 13, 10, 6, 30, 47, 0]\n"
          ],
          "name": "stdout"
        }
      ]
    }
  ]
}