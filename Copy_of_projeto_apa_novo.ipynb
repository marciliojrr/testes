{
  "nbformat": 4,
  "nbformat_minor": 0,
  "metadata": {
    "colab": {
      "name": "Copy of projeto-apa-novo",
      "provenance": [],
      "collapsed_sections": [
        "MVjffCJY3mpT"
      ],
      "include_colab_link": true
    },
    "kernelspec": {
      "name": "python3",
      "display_name": "Python 3"
    }
  },
  "cells": [
    {
      "cell_type": "markdown",
      "metadata": {
        "id": "view-in-github",
        "colab_type": "text"
      },
      "source": [
        "<a href=\"https://colab.research.google.com/github/marciliojrr/testes/blob/master/Copy_of_projeto_apa_novo.ipynb\" target=\"_parent\"><img src=\"https://colab.research.google.com/assets/colab-badge.svg\" alt=\"Open In Colab\"/></a>"
      ]
    },
    {
      "cell_type": "markdown",
      "metadata": {
        "id": "MVjffCJY3mpT",
        "colab_type": "text"
      },
      "source": [
        "##Importação de módulos necessários\n",
        "\n",
        "---\n",
        "\n"
      ]
    },
    {
      "cell_type": "code",
      "metadata": {
        "id": "mm0dvSOnxEaK",
        "colab_type": "code",
        "colab": {}
      },
      "source": [
        "import sys\n",
        "import copy\n",
        "import re\n",
        "import random\n",
        "import numpy"
      ],
      "execution_count": 0,
      "outputs": []
    },
    {
      "cell_type": "markdown",
      "metadata": {
        "id": "-fSf1ko8p6se",
        "colab_type": "text"
      },
      "source": [
        "##O PRGRAMA VAI PERGUNTAR QUAL A INSTÂNCIA, É PRECISO DIGITAR O NOME COMPLETO:\n",
        "EX: P-n16-k8.txt"
      ]
    },
    {
      "cell_type": "markdown",
      "metadata": {
        "id": "153nlDFd36Hx",
        "colab_type": "text"
      },
      "source": [
        "##Tratamento do arquivo de instâncias"
      ]
    },
    {
      "cell_type": "code",
      "metadata": {
        "id": "liiIDkzOxjv2",
        "colab_type": "code",
        "outputId": "1d4e6071-effc-4d4c-e986-1111175b642e",
        "colab": {
          "base_uri": "https://localhost:8080/",
          "height": 34
        }
      },
      "source": [
        "instancia = str(input('Qual nome do arquivo de instância? '))\n",
        "\n",
        "listaI = []\n",
        "dados = open(instancia, 'r')\n",
        "\n",
        "for i in dados:\n",
        "  i = i.strip()\n",
        "  listaI.append(i)\n",
        "\n",
        "del listaI[0]\n",
        "\n",
        "dimensao = int(re.sub('[^0-9]', '', listaI[0]))\n",
        "veiculos = int(re.sub('[^0-9]', '', listaI[1]))\n",
        "capacidade = int(re.sub('[^0-9]', '', listaI[2]))\n",
        "\n",
        "d = listaI.index('DEMAND_SECTION:')\n",
        "e = listaI.index('EDGE_WEIGHT_SECTION')\n",
        "\n",
        "listaDemanda = listaI[d:e]\n",
        "listaMatriz = listaI[e:]\n",
        "\n",
        "del listaDemanda[0]\n",
        "del listaDemanda[-1]\n",
        "del listaMatriz[0]\n",
        "del listaMatriz[-1]\n",
        "\n",
        "matrizCusto = []\n",
        "for i in listaMatriz:\n",
        "  matrizCusto.append([int(x) for x in i.split('   ')])\n",
        "\n",
        "matrizDemanda = []\n",
        "for i in listaDemanda:\n",
        "  matrizDemanda.append([int(x) for x in i.split('   ')])\n",
        "\n",
        "candidatos = [each[1] for each in matrizDemanda]\n",
        "candidatos1 = [each[0] for each in matrizDemanda]"
      ],
      "execution_count": 22,
      "outputs": [
        {
          "output_type": "stream",
          "text": [
            "Qual nome do arquivo de instância? P-n20-k2.txt\n"
          ],
          "name": "stdout"
        }
      ]
    },
    {
      "cell_type": "code",
      "metadata": {
        "id": "OGyXU22lFNA5",
        "colab_type": "code",
        "outputId": "adf78f94-4caa-4c43-ebf1-9244929a7f2f",
        "colab": {
          "base_uri": "https://localhost:8080/",
          "height": 34
        }
      },
      "source": [
        "print(capacidade)"
      ],
      "execution_count": 23,
      "outputs": [
        {
          "output_type": "stream",
          "text": [
            "160\n"
          ],
          "name": "stdout"
        }
      ]
    },
    {
      "cell_type": "code",
      "metadata": {
        "id": "JpMQX3ICC1Pm",
        "colab_type": "code",
        "outputId": "03fa30ce-d1ef-476d-eedd-c986aa9ff589",
        "colab": {
          "base_uri": "https://localhost:8080/",
          "height": 486
        }
      },
      "source": [
        "s = []\n",
        "solucaoPrimeiroCaminhao = []\n",
        "print(capacidade)\n",
        "for i in range(0, veiculos):\n",
        "    solucaoCaminhaoAtual = []\n",
        "    for j in range(0, len(candidatos)):\n",
        "      print('Capacidade: {}'.format(capacidade))\n",
        "      if(candidatos[j] < capacidade):\n",
        "            capacidade = capacidade - candidatos[j]\n",
        "            solucaoCaminhaoAtual.append(candidatos1[j])\n",
        "            del(candidatos1[j])\n",
        "    s.append(solucaoCaminhaoAtual)\n",
        "    #print(solucaoCaminhaoAtual)\n",
        "\n",
        "print(s)\n"
      ],
      "execution_count": 24,
      "outputs": [
        {
          "output_type": "stream",
          "text": [
            "160\n",
            "Capacidade: 160\n",
            "Capacidade: 160\n",
            "Capacidade: 141\n",
            "Capacidade: 111\n",
            "Capacidade: 95\n",
            "Capacidade: 72\n",
            "Capacidade: 61\n",
            "Capacidade: 30\n",
            "Capacidade: 15\n",
            "Capacidade: 15\n",
            "Capacidade: 7\n",
            "Capacidade: 7\n",
            "Capacidade: 7\n",
            "Capacidade: 7\n"
          ],
          "name": "stdout"
        },
        {
          "output_type": "error",
          "ename": "IndexError",
          "evalue": "ignored",
          "traceback": [
            "\u001b[0;31m---------------------------------------------------------------------------\u001b[0m",
            "\u001b[0;31mIndexError\u001b[0m                                Traceback (most recent call last)",
            "\u001b[0;32m<ipython-input-24-04a701121430>\u001b[0m in \u001b[0;36m<module>\u001b[0;34m()\u001b[0m\n\u001b[1;32m      8\u001b[0m       \u001b[0;32mif\u001b[0m\u001b[0;34m(\u001b[0m\u001b[0mcandidatos\u001b[0m\u001b[0;34m[\u001b[0m\u001b[0mj\u001b[0m\u001b[0;34m]\u001b[0m \u001b[0;34m<\u001b[0m \u001b[0mcapacidade\u001b[0m\u001b[0;34m)\u001b[0m\u001b[0;34m:\u001b[0m\u001b[0;34m\u001b[0m\u001b[0;34m\u001b[0m\u001b[0m\n\u001b[1;32m      9\u001b[0m             \u001b[0mcapacidade\u001b[0m \u001b[0;34m=\u001b[0m \u001b[0mcapacidade\u001b[0m \u001b[0;34m-\u001b[0m \u001b[0mcandidatos\u001b[0m\u001b[0;34m[\u001b[0m\u001b[0mj\u001b[0m\u001b[0;34m]\u001b[0m\u001b[0;34m\u001b[0m\u001b[0;34m\u001b[0m\u001b[0m\n\u001b[0;32m---> 10\u001b[0;31m             \u001b[0msolucaoCaminhaoAtual\u001b[0m\u001b[0;34m.\u001b[0m\u001b[0mappend\u001b[0m\u001b[0;34m(\u001b[0m\u001b[0mcandidatos1\u001b[0m\u001b[0;34m[\u001b[0m\u001b[0mj\u001b[0m\u001b[0;34m]\u001b[0m\u001b[0;34m)\u001b[0m\u001b[0;34m\u001b[0m\u001b[0;34m\u001b[0m\u001b[0m\n\u001b[0m\u001b[1;32m     11\u001b[0m             \u001b[0;32mdel\u001b[0m\u001b[0;34m(\u001b[0m\u001b[0mcandidatos1\u001b[0m\u001b[0;34m[\u001b[0m\u001b[0mj\u001b[0m\u001b[0;34m]\u001b[0m\u001b[0;34m)\u001b[0m\u001b[0;34m\u001b[0m\u001b[0;34m\u001b[0m\u001b[0m\n\u001b[1;32m     12\u001b[0m     \u001b[0ms\u001b[0m\u001b[0;34m.\u001b[0m\u001b[0mappend\u001b[0m\u001b[0;34m(\u001b[0m\u001b[0msolucaoCaminhaoAtual\u001b[0m\u001b[0;34m)\u001b[0m\u001b[0;34m\u001b[0m\u001b[0;34m\u001b[0m\u001b[0m\n",
            "\u001b[0;31mIndexError\u001b[0m: list index out of range"
          ]
        }
      ]
    },
    {
      "cell_type": "code",
      "metadata": {
        "id": "NGt_nmlAuX_H",
        "colab_type": "code",
        "colab": {}
      },
      "source": [
        "print(capacidade)"
      ],
      "execution_count": 0,
      "outputs": []
    },
    {
      "cell_type": "code",
      "metadata": {
        "id": "BdT-iEzauaTE",
        "colab_type": "code",
        "colab": {}
      },
      "source": [
        "for i in range(dimensao):\n",
        "  print(matrizCusto[i])"
      ],
      "execution_count": 0,
      "outputs": []
    }
  ]
}