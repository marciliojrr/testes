{
  "nbformat": 4,
  "nbformat_minor": 0,
  "metadata": {
    "colab": {
      "name": "projeto-apa-novo",
      "provenance": [],
      "include_colab_link": true
    },
    "kernelspec": {
      "name": "python3",
      "display_name": "Python 3"
    }
  },
  "cells": [
    {
      "cell_type": "markdown",
      "metadata": {
        "id": "view-in-github",
        "colab_type": "text"
      },
      "source": [
        "<a href=\"https://colab.research.google.com/github/marciliojrr/testes/blob/master/projeto_apa_novo.ipynb\" target=\"_parent\"><img src=\"https://colab.research.google.com/assets/colab-badge.svg\" alt=\"Open In Colab\"/></a>"
      ]
    },
    {
      "cell_type": "markdown",
      "metadata": {
        "id": "MVjffCJY3mpT",
        "colab_type": "text"
      },
      "source": [
        "##Importação de módulos necessários\n",
        "\n",
        "---\n",
        "\n"
      ]
    },
    {
      "cell_type": "code",
      "metadata": {
        "id": "mm0dvSOnxEaK",
        "colab_type": "code",
        "colab": {}
      },
      "source": [
        "import sys\n",
        "import copy\n",
        "import re"
      ],
      "execution_count": 0,
      "outputs": []
    },
    {
      "cell_type": "markdown",
      "metadata": {
        "id": "153nlDFd36Hx",
        "colab_type": "text"
      },
      "source": [
        "##Tratamento do arquivo de instâncias"
      ]
    },
    {
      "cell_type": "code",
      "metadata": {
        "id": "liiIDkzOxjv2",
        "colab_type": "code",
        "colab": {}
      },
      "source": [
        "listaI = []\n",
        "dados = open('P-n16-k8.txt', 'r')\n",
        "\n",
        "for i in dados:\n",
        "  i = i.strip()\n",
        "  listaI.append(i)\n",
        "\n",
        "del listaI[0]\n",
        "\n",
        "dimensao = int(re.sub('[^0-9]', '', listaI[0]))\n",
        "veiculos = int(re.sub('[^0-9]', '', listaI[1]))\n",
        "capacidade = int(re.sub('[^0-9]', '', listaI[2]))\n",
        "\n",
        "d = listaI.index('DEMAND_SECTION:')\n",
        "e = listaI.index('EDGE_WEIGHT_SECTION')\n",
        "\n",
        "listaDemanda = listaI[d:e]\n",
        "listaMatriz = listaI[e:]\n",
        "\n",
        "del listaDemanda[0]\n",
        "del listaDemanda[-1]\n",
        "del listaMatriz[0]\n",
        "del listaMatriz[-1]\n",
        "\n",
        "matrizCusto = []\n",
        "for i in listaMatriz:\n",
        "  matrizCusto.append([int(x) for x in i.split('   ')])\n",
        "\n",
        "matrizDemanda = []\n",
        "for i in listaDemanda:\n",
        "  matrizDemanda.append([int(x) for x in i.split('   ')])"
      ],
      "execution_count": 0,
      "outputs": []
    },
    {
      "cell_type": "markdown",
      "metadata": {
        "id": "2I6p7bks7rTZ",
        "colab_type": "text"
      },
      "source": [
        "S = Conjunto de Variáveis Discretas s\\\n",
        "s = Solução"
      ]
    },
    {
      "cell_type": "code",
      "metadata": {
        "id": "ONy4N4975b2Y",
        "colab_type": "code",
        "colab": {}
      },
      "source": [
        "Solucoes = []\n",
        "Candidatos = []\n",
        "\n",
        "def constru"
      ],
      "execution_count": 0,
      "outputs": []
    }
  ]
}