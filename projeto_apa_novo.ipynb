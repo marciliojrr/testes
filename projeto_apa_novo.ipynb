{
  "nbformat": 4,
  "nbformat_minor": 0,
  "metadata": {
    "colab": {
      "name": "projeto-apa-novo",
      "provenance": [],
      "collapsed_sections": [
        "MVjffCJY3mpT"
      ],
      "include_colab_link": true
    },
    "kernelspec": {
      "name": "python3",
      "display_name": "Python 3"
    }
  },
  "cells": [
    {
      "cell_type": "markdown",
      "metadata": {
        "id": "view-in-github",
        "colab_type": "text"
      },
      "source": [
        "<a href=\"https://colab.research.google.com/github/marciliojrr/testes/blob/master/projeto_apa_novo.ipynb\" target=\"_parent\"><img src=\"https://colab.research.google.com/assets/colab-badge.svg\" alt=\"Open In Colab\"/></a>"
      ]
    },
    {
      "cell_type": "markdown",
      "metadata": {
        "id": "MVjffCJY3mpT",
        "colab_type": "text"
      },
      "source": [
        "##Importação de módulos necessários\n",
        "\n",
        "---\n",
        "\n"
      ]
    },
    {
      "cell_type": "code",
      "metadata": {
        "id": "mm0dvSOnxEaK",
        "colab_type": "code",
        "colab": {}
      },
      "source": [
        "import sys\n",
        "import copy\n",
        "import re\n",
        "import random\n",
        "import numpy"
      ],
      "execution_count": 0,
      "outputs": []
    },
    {
      "cell_type": "markdown",
      "metadata": {
        "id": "153nlDFd36Hx",
        "colab_type": "text"
      },
      "source": [
        "##Tratamento do arquivo de instâncias"
      ]
    },
    {
      "cell_type": "code",
      "metadata": {
        "id": "liiIDkzOxjv2",
        "colab_type": "code",
        "colab": {
          "base_uri": "https://localhost:8080/",
          "height": 34
        },
        "outputId": "70a1b9fe-e9f9-4e4c-906a-5d1c6e81034e"
      },
      "source": [
        "instancia = str(input('Qual nome do arquivo de instância? '))\n",
        "\n",
        "listaI = []\n",
        "dados = open(instancia, 'r')\n",
        "\n",
        "for i in dados:\n",
        "  i = i.strip()\n",
        "  listaI.append(i)\n",
        "\n",
        "del listaI[0]\n",
        "\n",
        "dimensao = int(re.sub('[^0-9]', '', listaI[0]))\n",
        "veiculos = int(re.sub('[^0-9]', '', listaI[1]))\n",
        "capacidade = int(re.sub('[^0-9]', '', listaI[2]))\n",
        "\n",
        "d = listaI.index('DEMAND_SECTION:')\n",
        "e = listaI.index('EDGE_WEIGHT_SECTION')\n",
        "\n",
        "listaDemanda = listaI[d:e]\n",
        "listaMatriz = listaI[e:]\n",
        "\n",
        "del listaDemanda[0]\n",
        "del listaDemanda[-1]\n",
        "del listaMatriz[0]\n",
        "del listaMatriz[-1]\n",
        "\n",
        "matrizCusto = []\n",
        "for i in listaMatriz:\n",
        "  matrizCusto.append([int(x) for x in i.split('   ')])\n",
        "\n",
        "matrizDemanda = []\n",
        "for i in listaDemanda:\n",
        "  matrizDemanda.append([int(x) for x in i.split('   ')])\n",
        "\n",
        "candidatos = [each[1] for each in matrizDemanda]"
      ],
      "execution_count": 189,
      "outputs": [
        {
          "output_type": "stream",
          "text": [
            "Qual nome do arquivo de instância? P-n23-k8.txt\n"
          ],
          "name": "stdout"
        }
      ]
    },
    {
      "cell_type": "code",
      "metadata": {
        "id": "k0q1Gv5WdEOQ",
        "colab_type": "code",
        "colab": {}
      },
      "source": [
        "'''\n",
        "def construcaoGulosa(g, s):\n",
        "  s = 0\n",
        "  while candidatos != 0:\n",
        "    random.shuffle(candidatos)\n",
        "    for i in range(dimensao):\n",
        "      for j in range(dimensao):\n",
        "        g = min(sum(matrizCusto[i][j]))\n",
        "    s = s + g\n",
        "    del (candidatos[g])\n",
        "  return s\n",
        "'''"
      ],
      "execution_count": 0,
      "outputs": []
    }
  ]
}